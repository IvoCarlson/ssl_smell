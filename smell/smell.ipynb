{
 "cells": [
  {
   "cell_type": "code",
   "execution_count": 1,
   "id": "b5b68c01-3cf1-461c-909e-1d4b0adc9129",
   "metadata": {
    "colab": {
     "base_uri": "https://localhost:8080/"
    },
    "id": "b5b68c01-3cf1-461c-909e-1d4b0adc9129",
    "outputId": "c2ba2da8-ea99-4d91-eeac-7ed2f6e2e320"
   },
   "outputs": [
    {
     "name": "stdout",
     "output_type": "stream",
     "text": [
      "Defaulting to user installation because normal site-packages is not writeable\n",
      "Requirement already satisfied: torchmetrics in /home/ivo/.local/lib/python3.8/site-packages (1.5.2)\n",
      "Requirement already satisfied: numpy>1.20.0 in /home/ivo/.local/lib/python3.8/site-packages (from torchmetrics) (1.24.3)\n",
      "Requirement already satisfied: packaging>17.1 in /home/ivo/.local/lib/python3.8/site-packages (from torchmetrics) (24.1)\n",
      "Requirement already satisfied: torch>=1.10.0 in /home/ivo/.local/lib/python3.8/site-packages (from torchmetrics) (2.1.2)\n",
      "Requirement already satisfied: lightning-utilities>=0.8.0 in /home/ivo/.local/lib/python3.8/site-packages (from torchmetrics) (0.11.9)\n",
      "Requirement already satisfied: typing-extensions in /home/ivo/.local/lib/python3.8/site-packages (from torchmetrics) (4.5.0)\n",
      "Requirement already satisfied: setuptools in /home/ivo/.local/lib/python3.8/site-packages (from lightning-utilities>=0.8.0->torchmetrics) (75.3.0)\n",
      "Requirement already satisfied: filelock in /home/ivo/.local/lib/python3.8/site-packages (from torch>=1.10.0->torchmetrics) (3.12.2)\n",
      "Requirement already satisfied: sympy in /home/ivo/.local/lib/python3.8/site-packages (from torch>=1.10.0->torchmetrics) (1.13.3)\n",
      "Requirement already satisfied: networkx in /home/ivo/.local/lib/python3.8/site-packages (from torch>=1.10.0->torchmetrics) (3.1)\n",
      "Requirement already satisfied: jinja2 in /usr/local/lib/python3.8/dist-packages (from torch>=1.10.0->torchmetrics) (3.1.2)\n",
      "Requirement already satisfied: fsspec in /home/ivo/.local/lib/python3.8/site-packages (from torch>=1.10.0->torchmetrics) (2024.10.0)\n",
      "Requirement already satisfied: nvidia-cuda-nvrtc-cu12==12.1.105 in /home/ivo/.local/lib/python3.8/site-packages (from torch>=1.10.0->torchmetrics) (12.1.105)\n",
      "Requirement already satisfied: nvidia-cuda-runtime-cu12==12.1.105 in /home/ivo/.local/lib/python3.8/site-packages (from torch>=1.10.0->torchmetrics) (12.1.105)\n",
      "Requirement already satisfied: nvidia-cuda-cupti-cu12==12.1.105 in /home/ivo/.local/lib/python3.8/site-packages (from torch>=1.10.0->torchmetrics) (12.1.105)\n",
      "Requirement already satisfied: nvidia-cudnn-cu12==8.9.2.26 in /home/ivo/.local/lib/python3.8/site-packages (from torch>=1.10.0->torchmetrics) (8.9.2.26)\n",
      "Requirement already satisfied: nvidia-cublas-cu12==12.1.3.1 in /home/ivo/.local/lib/python3.8/site-packages (from torch>=1.10.0->torchmetrics) (12.1.3.1)\n",
      "Requirement already satisfied: nvidia-cufft-cu12==11.0.2.54 in /home/ivo/.local/lib/python3.8/site-packages (from torch>=1.10.0->torchmetrics) (11.0.2.54)\n",
      "Requirement already satisfied: nvidia-curand-cu12==10.3.2.106 in /home/ivo/.local/lib/python3.8/site-packages (from torch>=1.10.0->torchmetrics) (10.3.2.106)\n",
      "Requirement already satisfied: nvidia-cusolver-cu12==11.4.5.107 in /home/ivo/.local/lib/python3.8/site-packages (from torch>=1.10.0->torchmetrics) (11.4.5.107)\n",
      "Requirement already satisfied: nvidia-cusparse-cu12==12.1.0.106 in /home/ivo/.local/lib/python3.8/site-packages (from torch>=1.10.0->torchmetrics) (12.1.0.106)\n",
      "Requirement already satisfied: nvidia-nccl-cu12==2.18.1 in /home/ivo/.local/lib/python3.8/site-packages (from torch>=1.10.0->torchmetrics) (2.18.1)\n",
      "Requirement already satisfied: nvidia-nvtx-cu12==12.1.105 in /home/ivo/.local/lib/python3.8/site-packages (from torch>=1.10.0->torchmetrics) (12.1.105)\n",
      "Requirement already satisfied: triton==2.1.0 in /home/ivo/.local/lib/python3.8/site-packages (from torch>=1.10.0->torchmetrics) (2.1.0)\n",
      "Requirement already satisfied: nvidia-nvjitlink-cu12 in /home/ivo/.local/lib/python3.8/site-packages (from nvidia-cusolver-cu12==11.4.5.107->torch>=1.10.0->torchmetrics) (12.6.77)\n",
      "Requirement already satisfied: MarkupSafe>=2.0 in /home/ivo/.local/lib/python3.8/site-packages (from jinja2->torch>=1.10.0->torchmetrics) (2.1.5)\n",
      "Requirement already satisfied: mpmath<1.4,>=1.1.0 in /home/ivo/.local/lib/python3.8/site-packages (from sympy->torch>=1.10.0->torchmetrics) (1.3.0)\n"
     ]
    }
   ],
   "source": [
    "!pip3 install torchmetrics"
   ]
  },
  {
   "cell_type": "code",
   "execution_count": 2,
   "id": "bErI73uINzsi",
   "metadata": {
    "colab": {
     "base_uri": "https://localhost:8080/"
    },
    "id": "bErI73uINzsi",
    "outputId": "fdd74dcc-6820-45b4-cf10-d2f0fe188951"
   },
   "outputs": [],
   "source": [
    "# centralized_training.py\n",
    "import argparse\n",
    "import torch\n",
    "import torch.nn as nn\n",
    "from torch.utils.data import DataLoader\n",
    "from torchvision.transforms import ToTensor, Normalize, Compose\n",
    "from torchvision import datasets, transforms\n",
    "from torch.optim import Adam\n",
    "from torchmetrics.classification import MulticlassAccuracy, MulticlassPrecision, MulticlassRecall, MulticlassF1Score\n",
    "from collections import OrderedDict\n",
    "import numpy as np\n",
    "import torch.nn.functional as F\n",
    "import random\n",
    "\n",
    "import torchvision.models as models # ResNet-18\n",
    "\n",
    "NUM_CLASSES = 26 #10\n",
    "\n",
    "import sys\n",
    "import os\n",
    "\n",
    "from sklearn.neighbors import KNeighborsClassifier\n",
    "\n",
    "def parse_args(dataset, model, epochs, batch_size=32, learning_rate=0.001, output_csv=\"results.csv\"):\n",
    "    args = {\n",
    "        \"dataset\": dataset,\n",
    "        \"model\": model,\n",
    "        \"epochs\": epochs,\n",
    "        \"batch_size\": batch_size,\n",
    "        \"learning_rate\": learning_rate,\n",
    "        \"output_csv\": output_csv,\n",
    "    }\n",
    "    return args\n",
    "\n",
    "from PIL import Image\n",
    "from torch.utils.data import Dataset\n",
    "'''\n",
    "# Para uso no Google Colab\n",
    "import resource\n",
    "\n",
    "from google.colab import drive\n",
    "drive.mount('/content/drive')\n",
    "sys.path.append('/content/drive/MyDrive/scripts')\n",
    "\n",
    "db = '/content/drive/My Drive/np_load/'\n",
    "'''\n",
    "\n",
    "from tqdm import tqdm\n",
    "import time\n",
    "\n",
    "# Definição da classe Dataset para utilização com o MaleVis\n",
    "class CustomDataset(Dataset):\n",
    "    def __init__(self, root_dir, transform=None):\n",
    "        \"\"\"\n",
    "        Inicializa o dataset.\n",
    "\n",
    "        :param root_dir: Diretório onde as imagens estão armazenadas.\n",
    "        :param transform: Transformações que serão aplicadas nas imagens.\n",
    "        \"\"\"\n",
    "        self.root_dir = root_dir\n",
    "        self.transform = transform\n",
    "        self.img_labels = []\n",
    "\n",
    "        for label_dir in os.listdir(root_dir):\n",
    "            label_path = os.path.join(root_dir, label_dir)\n",
    "            if os.path.isdir(label_path):\n",
    "                for img_name in os.listdir(label_path):\n",
    "                    if img_name.endswith(\".jpg\") or img_name.endswith(\".png\"):\n",
    "                        self.img_labels.append((os.path.join(label_path, img_name), label_dir))  # Caminho da imagem e rótulo\n",
    "\n",
    "    def __len__(self):\n",
    "        \"\"\"Retorna o número total de amostras no dataset.\"\"\"\n",
    "        return len(self.img_labels)\n",
    "\n",
    "    def __getitem__(self, idx):\n",
    "        \"\"\"\n",
    "        Retorna uma amostra (imagem, rótulo) no índice fornecido.\n",
    "\n",
    "        :param idx: Índice da amostra\n",
    "        :return: A imagem e o rótulo (como tensor)\n",
    "        \"\"\"\n",
    "        img_path, label = self.img_labels[idx]\n",
    "        \n",
    "        # Carrega a imagem\n",
    "        image = Image.open(img_path)  \n",
    "        \n",
    "        # Dicionário de classes\n",
    "        label_mapping = {'Vilsel': 0, 'Androm': 1, 'Snarasite': 2, 'MultiPlug': 3, 'Hlux': 4,'VBA': 5, 'Regrun': 6, 'Injector': 7, 'BrowseFox': 8, 'Fasong': 9, 'Allaple': 10, 'Agent': 11, 'Amonetize': 12, 'Other': 13, 'VBKrypt': 14,'HackKMS': 15, 'Dinwod': 16, 'Adposhel': 17, 'Neshta': 18, 'Autorun': 19,'InstallCore': 20, 'Sality': 21, 'Neoreklami': 22, 'Stantinko': 23, 'Elex': 24,'Expiro': 25}\n",
    "        try:\n",
    "            label = label_mapping[label]\n",
    "        except KeyError:\n",
    "            print(f\"Warning: Label '{label}' not found in mapping. Skipping this sample.\")\n",
    "            return None\n",
    "\n",
    "        if self.transform:\n",
    "            image = self.transform(image)\n",
    "\n",
    "        return image, label\n"
   ]
  },
  {
   "cell_type": "code",
   "execution_count": 3,
   "id": "boDdEXme1Shd",
   "metadata": {
    "id": "boDdEXme1Shd"
   },
   "outputs": [],
   "source": [
    "from torchvision.transforms import Compose, ToTensor, Normalize, Resize\n",
    "\n",
    "def apply_transforms():\n",
    "    return Compose([\n",
    "        Resize((64, 64)),  # Redimensiona a imagem para 64x64\n",
    "        ToTensor(),          # Converte a imagem para um tensor\n",
    "        transforms.Grayscale(), # Converte para escala de cinza\n",
    "        #transforms.Lambda(lambda x: x.repeat(3, 1, 1)), # Replica o canal de escala de cinza 3 vezes\n",
    "        Normalize((0.1307,), (0.3081,))  # Normaliza a imagem com média e desvio padrão fornecidos\n",
    "    ])\n",
    "\n",
    "\n",
    "#def apply_transforms():\n",
    "#    return Compose([ToTensor(), Normalize((0.1307,), (0.3081,))])\n",
    "\n",
    "def get_data_loaders(dataset, batch_size):\n",
    "    if dataset == \"mnist\":\n",
    "        train_dataset = datasets.MNIST(root=\"../db\", train=True, download=True, transform=apply_transforms())\n",
    "        test_dataset = datasets.MNIST(root=\"../db\", train=False, download=True, transform=apply_transforms())\n",
    "    elif dataset == \"fmnist\":\n",
    "        train_dataset = datasets.FashionMNIST(root=\"../db\", train=True, download=True, transform=apply_transforms())\n",
    "        test_dataset = datasets.FashionMNIST(root=\"../db\", train=False, download=True, transform=apply_transforms())\n",
    "    elif dataset == \"cifar10\":\n",
    "        train_dataset = datasets.CIFAR10(root=\"../db\", train=True, download=True, transform=apply_transforms())\n",
    "        test_dataset = datasets.CIFAR10(root=\"../db\", train=False, download=True, transform=apply_transforms())\n",
    "    elif dataset == \"custom\":\n",
    "        data_dir = \"../db/\"\n",
    "        #data_dir = \"/content/drive/My Drive/malevis/\"\n",
    "        #train_dataset = CustomDataset(root_dir=os.path.join(data_dir, \"malevis_train\"), transform=apply_transforms())\n",
    "        #test_dataset = CustomDataset(root_dir=os.path.join(data_dir, \"malevis_val\"), transform=apply_transforms())\n",
    "        train_dataset = CustomDataset(root_dir=os.path.join(data_dir, \"reduced_train\"), transform=apply_transforms())\n",
    "        test_dataset = CustomDataset(root_dir=os.path.join(data_dir, \"reduced_test\"), transform=apply_transforms())\n",
    "\n",
    "        \n",
    "    train_loader = DataLoader(train_dataset, batch_size=batch_size, shuffle=True)\n",
    "    test_loader = DataLoader(test_dataset, batch_size=batch_size, shuffle=False)\n",
    "\n",
    "    return train_loader, test_loader"
   ]
  },
  {
   "cell_type": "code",
   "execution_count": 4,
   "id": "xt91MbIcNY6e",
   "metadata": {
    "id": "xt91MbIcNY6e"
   },
   "outputs": [],
   "source": [
    "class TwoNN(nn.Module):\n",
    "    def __init__(self, emb_dim):\n",
    "        super(TwoNN, self).__init__()\n",
    "        self.base = nn.Sequential(\n",
    "            nn.Linear(64*64, 200),\n",
    "            nn.ReLU(inplace=True),\n",
    "            nn.Linear(200, 200),\n",
    "            nn.ReLU(inplace=True),\n",
    "        )\n",
    "        self.classifier = nn.Sequential(nn.Linear(200, emb_dim), nn.ReLU())\n",
    "        self.emb_dim = emb_dim\n",
    "\n",
    "    def need_all_features(self):\n",
    "        return\n",
    "\n",
    "    def forward(self, x):\n",
    "        x = torch.flatten(x, start_dim=1)#start_dim=1\n",
    "        x = self.classifier(self.base(x))\n",
    "        return x"
   ]
  },
  {
   "cell_type": "code",
   "execution_count": 5,
   "id": "e4aec878-58e3-4fa6-9814-ab4dd3b8ff92",
   "metadata": {
    "colab": {
     "base_uri": "https://localhost:8080/"
    },
    "id": "e4aec878-58e3-4fa6-9814-ab4dd3b8ff92",
    "outputId": "fe0ea5e8-0ea2-4e35-e562-3d9b8ccf9a65"
   },
   "outputs": [
    {
     "name": "stdout",
     "output_type": "stream",
     "text": [
      "{'dataset': 'custom', 'model': 'mobilenetv2', 'epochs': 10, 'batch_size': 128, 'learning_rate': 0.01, 'output_csv': 'results.csv'}\n"
     ]
    }
   ],
   "source": [
    "# Example usage in a Jupyter notebook:\n",
    "args = parse_args(\n",
    "    dataset=\"custom\",#\"fmnist\", custom\n",
    "    model=\"mobilenetv2\",#\"twoNN\",#\"resnet18\", \"efficientnet-b0\", \"mobilenetv2\",\n",
    "    epochs=10,\n",
    "    batch_size=128,\n",
    "    learning_rate=0.01,\n",
    "    output_csv=\"results.csv\"\n",
    ")\n",
    "\n",
    "print(args)"
   ]
  },
  {
   "cell_type": "code",
   "execution_count": 6,
   "id": "bf99e24d-7cb5-4a41-b2b7-bd55c912d035",
   "metadata": {
    "id": "bf99e24d-7cb5-4a41-b2b7-bd55c912d035"
   },
   "outputs": [],
   "source": [
    "# Prototypical Center Loss function\n",
    "class PrototypicalCenterLoss(nn.Module):\n",
    "    def __init__(self, num_classes, embedding_size, margin=2.0):\n",
    "        \"\"\"\n",
    "        Prototypical center loss to minimize intra-class distance and maximize inter-class distance.\n",
    "\n",
    "        :param num_classes: The number of distinct classes.\n",
    "        :param embedding_size: The dimension of the embedding space.\n",
    "        :param margin: A margin to separate class centers.\n",
    "        \"\"\"\n",
    "        super(PrototypicalCenterLoss, self).__init__()\n",
    "        self.num_classes = num_classes\n",
    "        self.embedding_size = embedding_size\n",
    "        self.margin = margin\n",
    "\n",
    "        # Initialize class prototypes (centers) as learnable parameters\n",
    "        self.prototypes = nn.Parameter(torch.randn(num_classes, embedding_size), requires_grad=True)\n",
    "\n",
    "    def forward(self, embeddings, labels):\n",
    "        \"\"\"\n",
    "        Compute prototypical center loss.\n",
    "\n",
    "        :param embeddings: The input embeddings of shape [batch_size, embedding_dim].\n",
    "        :param labels: The corresponding labels of shape [batch_size].\n",
    "        :return: The prototypical center loss.\n",
    "        \"\"\"\n",
    "        batch_size = embeddings.size(0)\n",
    "\n",
    "        # Compute distance to the corresponding class prototype (center)\n",
    "        dist_to_center = torch.norm(embeddings - self.prototypes[labels], dim=1)\n",
    "\n",
    "        # Intra-class loss (minimize distance to the correct class prototype)\n",
    "        loss_intra = torch.mean(torch.pow(dist_to_center, 2))\n",
    "\n",
    "        # Optionally, add inter-class loss (encourage prototypes to be apart)\n",
    "        inter_class_distances = torch.cdist(self.prototypes, self.prototypes)\n",
    "        inter_class_distances = inter_class_distances + torch.eye(self.num_classes, device=embeddings.device) * 1e12  # Prevent self-comparison\n",
    "\n",
    "        # Apply margin: penalize if prototypes are closer than the margin\n",
    "        loss_inter = torch.mean(F.relu(self.margin - inter_class_distances))\n",
    "\n",
    "        total_loss = loss_intra + loss_inter\n",
    "        return total_loss\n",
    "\n",
    "\n",
    "# Modify the pretrain function to use prototypical center loss\n",
    "def pretrain_model_prototypical_center(encoder, dataloader, criterion, optimizer, num_epochs, device):\n",
    "    encoder.train()  # Set the encoder to training mode\n",
    "\n",
    "    for epoch in range(num_epochs):\n",
    "        print(f\"Iniciando época {epoch + 1}\") # Para barra de progresso\n",
    "        running_loss = 0.0\n",
    "        for batch_data, batch_labels in tqdm(dataloader, desc=f'Época {epoch + 1}', unit='batch'):\n",
    "            #batch_data = batch_data.view(batch_data.size(0), -1).to(device)\n",
    "            batch_data = batch_data.to(device)\n",
    "            batch_labels = batch_labels.to(device)\n",
    "\n",
    "            # Forward pass: compute embeddings\n",
    "            embeddings = encoder(batch_data.float())\n",
    "\n",
    "            # Compute prototypical center loss\n",
    "            loss = criterion(embeddings, batch_labels)\n",
    "\n",
    "            # Backpropagation and optimization\n",
    "            optimizer.zero_grad()\n",
    "            loss.backward()\n",
    "            optimizer.step()\n",
    "\n",
    "            running_loss += loss.item()\n",
    "\n",
    "        print(f'Pretrain Epoch [{epoch+1}/{num_epochs}], Loss: {running_loss/len(dataloader):.4f}')\n",
    "\n",
    "def generate_pairs(X, Y, N):\n",
    "    # Ensure N is even\n",
    "    if N % 2 != 0:\n",
    "        raise ValueError(\"N must be an even number.\")\n",
    "\n",
    "    num_same_label_pairs = N // 2\n",
    "    num_different_label_pairs = N // 2\n",
    "\n",
    "    # Precompute label indices\n",
    "    label_to_indices = {label.item(): (Y == label).nonzero(as_tuple=True)[0].tolist() for label in torch.unique(Y)}\n",
    "\n",
    "    X1, X2, labels = [], [], []\n",
    "\n",
    "    # Generate similar pairs (same label)\n",
    "    for _ in range(num_same_label_pairs):\n",
    "        # Sample a label that has more than one instance\n",
    "         while True:\n",
    "           sampled_label = random.choice(list(label_to_indices.keys()))\n",
    "           indices = label_to_indices[sampled_label]\n",
    "           if len(indices) > 1:\n",
    "                # Randomly sample two distinct indices for the same label\n",
    "                idx1, idx2 = random.sample(indices, 2)\n",
    "                X1.append(X[idx1])\n",
    "                X2.append(X[idx2])\n",
    "                labels.append(1)  # Similar pair label\n",
    "                # Ensure the label has more than one element\n",
    "                break\n",
    "\n",
    "\n",
    "    # Generate dissimilar pairs (different labels)\n",
    "    for _ in range(num_different_label_pairs):\n",
    "        # Sample two different labels\n",
    "        while len(list(label_to_indices.keys())) >= 2:\n",
    "\n",
    "            label1, label2 = random.sample(list(label_to_indices.keys()), 2)\n",
    "            idx1 = random.choice(label_to_indices[label1])\n",
    "            idx2 = random.choice(label_to_indices[label2])\n",
    "            # Directly add the dissimilar pairs\n",
    "            X1.append(X[idx1])\n",
    "            X2.append(X[idx2])\n",
    "            labels.append(0)  # Dissimilar pair label\n",
    "            break\n",
    "\n",
    "    # Convert lists to tensors efficiently in one go\n",
    "    X1 = torch.stack(X1)\n",
    "    X2 = torch.stack(X2)\n",
    "    labels = torch.tensor(labels)\n",
    "\n",
    "    return X1, X2, labels\n",
    "\n",
    "# Training loop with dynamic learning rate adjustment\n",
    "def train_model_with_dynamic_lr(model, criterion, optimizer, train_loader, num_epochs, device, frozen = False):\n",
    "    scheduler = torch.optim.lr_scheduler.StepLR(optimizer, step_size=10, gamma=0.9)  # Reduce LR by 0.5 every 50 epochs\n",
    "\n",
    "    for epoch in range(num_epochs):\n",
    "        model.train()\n",
    "        running_loss = 0.0\n",
    "\n",
    "        #print(criterion.similar_prototypes, criterion.dissimilar_prototypes)\n",
    "\n",
    "        #for batch_data, batch_labels in train_loader:\n",
    "        for batch_data, batch_labels in tqdm(train_loader, desc=f'Época {epoch + 1}', unit='batch'):\n",
    "            #batch_data = batch_data.view(batch_data.size(0), -1).to(device)\n",
    "            batch_data = batch_data.to(device)\n",
    "            batch_labels = batch_labels.to(device)\n",
    "\n",
    "            optimizer.zero_grad()\n",
    "\n",
    "            # Create pairs of samples and labels (1 for similar, 0 for dissimilar)\n",
    "            #pairs, labels = create_pairs(batch_data, batch_labels)\n",
    "            if True:\n",
    "              pairs_1, pairs_2, labels = generate_pairs(batch_data, batch_labels, 200)\n",
    "              pairs_1, pairs_2, labels = pairs_1.to(device), pairs_2.to(device), labels.to(device)\n",
    "\n",
    "              # Compute embeddings using the frozen encoder\n",
    "              if frozen:\n",
    "                with torch.no_grad():\n",
    "                    # Compute embeddings for both elements of the pairs\n",
    "                    embeddings_x1 = model(pairs_1.float())\n",
    "                    embeddings_x2 = model(pairs_2.float())\n",
    "                    criterion.toggle_requires_grad(requires_grad_value = False)\n",
    "\n",
    "              else:\n",
    "                # Compute embeddings for both elements of the pairs\n",
    "                embeddings_x1 = model(pairs_1.float())\n",
    "                embeddings_x2 = model(pairs_2.float())\n",
    "                criterion.toggle_requires_grad(requires_grad_value = True)\n",
    "\n",
    "              # Compute loss\n",
    "              loss = criterion(embeddings_x1, embeddings_x2, labels)\n",
    "\n",
    "              # Backpropagation and optimization\n",
    "\n",
    "              loss.backward()\n",
    "              optimizer.step()\n",
    "\n",
    "              running_loss += loss.item()\n",
    "\n",
    "            #except:\n",
    "            # pass\n",
    "\n",
    "        scheduler.step()\n",
    "        print(f'Epoch [{epoch+1}/{num_epochs}], Loss: {running_loss/len(train_loader):.4f}, LR: {scheduler.get_last_lr()[0]:.6f}')\n",
    "\n"
   ]
  },
  {
   "cell_type": "code",
   "execution_count": 7,
   "id": "X5Uywe_hTZuu",
   "metadata": {
    "id": "X5Uywe_hTZuu"
   },
   "outputs": [],
   "source": [
    "class LearnablePrototypicalLossWithDiversityRegularization(nn.Module):\n",
    "    def __init__(self, embedding_dim, num_similar_prototypes, num_dissimilar_prototypes, margin=1.0, lambda_reg=0.01):\n",
    "        \"\"\"\n",
    "        Initialize the Prototypical Loss function with diversity regularization.\n",
    "        paper : A New Similarity Space Tailored for Supervised Deep Metric Learning\n",
    "\n",
    "        :param embedding_dim: The dimension of the input embeddings.\n",
    "        :param num_similar_prototypes: Number of prototypical vectors for similar pairs.\n",
    "        :param num_dissimilar_prototypes: Number of prototypical vectors for dissimilar pairs.\n",
    "        :param margin: The minimum distance margin between prototypes.\n",
    "        :param lambda_reg: Regularization strength.\n",
    "        \"\"\"\n",
    "        super(LearnablePrototypicalLossWithDiversityRegularization, self).__init__()\n",
    "\n",
    "\n",
    "        self.similar_prototypes = nn.Parameter(torch.cat((torch.zeros(1, embedding_dim), torch.randn(num_similar_prototypes-1, embedding_dim)), dim=0), requires_grad=True)\n",
    "        self.dissimilar_prototypes = nn.Parameter(torch.randn(num_dissimilar_prototypes, embedding_dim) + 2.0, requires_grad=True)\n",
    "        self.margin = margin\n",
    "        self.lambda_reg = lambda_reg\n",
    "\n",
    "    def toggle_requires_grad(self, index = 0, requires_grad_value = True):\n",
    "        \"\"\"\n",
    "        Function to toggle requires_grad for specific vectors in self.similar_prototypes\n",
    "        \"\"\"\n",
    "        # Detach the tensor first to prevent in-place modification errors\n",
    "        with torch.no_grad():\n",
    "            # Set the requires_grad for a specific vector at index\n",
    "            self.similar_prototypes.data[index] = self.similar_prototypes.data[index].requires_grad_(requires_grad_value)\n",
    "            self.dissimilar_prototypes.data[index] = self.dissimilar_prototypes.data[index].requires_grad_(requires_grad_value)\n",
    "\n",
    "\n",
    "    def diversity_regularization(self, prototypes):\n",
    "        \"\"\"\n",
    "        Computes the diversity regularization term to prevent prototypes from collapsing.\n",
    "        Encourages all prototypes to be at least `margin` distance apart.\n",
    "\n",
    "        :param prototypes: The prototypical vectors (similar or dissimilar).\n",
    "        :return: A scalar representing the regularization loss.\n",
    "        \"\"\"\n",
    "        num_prototypes = prototypes.size(0)\n",
    "        reg_loss = 0.0\n",
    "\n",
    "        for i in range(num_prototypes):\n",
    "            for j in range(i + 1, num_prototypes):\n",
    "                # Compute the Euclidean distance between prototype i and j\n",
    "                dist = torch.norm(prototypes[i] - prototypes[j])\n",
    "\n",
    "                # Penalize if the distance is less than the margin\n",
    "                if dist < self.margin:\n",
    "                    reg_loss += torch.pow(self.margin - dist, 2)\n",
    "\n",
    "        return reg_loss\n",
    "\n",
    "    def forward(self, x1, x2, label):\n",
    "        # Compute the absolute difference vector s_ij\n",
    "        s_ij = torch.abs(x1 - x2)\n",
    "\n",
    "        # Expand s_ij to compute distance to all prototypes\n",
    "        s_ij = s_ij.unsqueeze(1)  # Shape: [batch_size, 1, embedding_dim]\n",
    "\n",
    "        # Compute distances to all similar prototypes\n",
    "        dist_to_similar_prototypes = torch.cdist(s_ij, self.similar_prototypes.unsqueeze(0), p=2).squeeze(1)\n",
    "        dist_to_dissimilar_prototypes = torch.cdist(s_ij, self.dissimilar_prototypes.unsqueeze(0), p=2).squeeze(1)\n",
    "\n",
    "        # Compute similarity scores using the given formula\n",
    "        similarity_similar = torch.pow(1 + torch.pow(dist_to_similar_prototypes, 2), -1)\n",
    "        similarity_dissimilar = torch.pow(1 + torch.pow(dist_to_dissimilar_prototypes, 2), -1)\n",
    "\n",
    "        # Normalization step: Sum of similarities for each prototype set\n",
    "        denom_similar = torch.sum(similarity_similar, dim=1, keepdim=True)\n",
    "        denom_dissimilar = torch.sum(similarity_dissimilar, dim=1, keepdim=True)\n",
    "\n",
    "        # Normalize similarity scores\n",
    "        similarity_similar_normalized = (similarity_similar / (denom_similar + denom_dissimilar))\n",
    "        similarity_dissimilar_normalized = (similarity_dissimilar / (denom_similar + denom_dissimilar))\n",
    "\n",
    "        # Calculate the loss:\n",
    "        # If label == 1 (similar), minimize distance to similar prototypes\n",
    "        # If label == 0 (dissimilar), minimize distance to dissimilar prototypes\n",
    "        loss = -torch.mean(label * torch.log(torch.sum(similarity_similar_normalized, dim=1)) + (1 - label) * torch.log(torch.sum(similarity_dissimilar_normalized, dim=1)))\n",
    "\n",
    "        total_loss = loss\n",
    "\n",
    "        ## Diversity regularization to avoid prototype collapse\n",
    "        #diversity_loss_similar = self.diversity_regularization(self.similar_prototypes)\n",
    "        #diversity_loss_dissimilar = self.diversity_regularization(self.dissimilar_prototypes)\n",
    "\n",
    "        # Add diversity regularization to the total loss\n",
    "        #total_loss += self.lambda_reg * (diversity_loss_similar + diversity_loss_dissimilar)\n",
    "\n",
    "        return total_loss\n",
    "\n",
    "    def compute_norms(self):\n",
    "        # Compute norms for the similar prototypes\n",
    "        similar_norms = torch.norm(self.similar_prototypes, dim=1)  # Compute L2 norm for each vector\n",
    "\n",
    "        # Compute norms for the dissimilar prototypes\n",
    "        dissimilar_norms = torch.norm(self.dissimilar_prototypes, dim=1)  # Compute L2 norm for each vector\n",
    "\n",
    "        # Combine both norms into a single vector (you could return them separately too)\n",
    "        #combined_norms = torch.cat((similar_norms, dissimilar_norms), dim=0)\n",
    "\n",
    "        return similar_norms, dissimilar_norms"
   ]
  },
  {
   "cell_type": "code",
   "execution_count": 8,
   "id": "lghHzQYDTIMD",
   "metadata": {
    "id": "lghHzQYDTIMD"
   },
   "outputs": [],
   "source": [
    "def knn_in_embedding_space(model, train_loader, test_loader, criterion, device, k=1, num_samples_for_pairs=200):\n",
    "    model.eval()\n",
    "\n",
    "    # Collect train embeddings and labels\n",
    "    train_embeddings = []\n",
    "    train_labels = []\n",
    "\n",
    "    with torch.no_grad():\n",
    "        for batch_data, batch_labels in train_loader:\n",
    "            #batch_data = batch_data.view(batch_data.size(0), -1).to(device)\n",
    "            batch_data = batch_data.to(device)\n",
    "            embeddings = model(batch_data)\n",
    "            train_embeddings.append(embeddings.cpu())\n",
    "            train_labels.append(batch_labels)\n",
    "\n",
    "    train_embeddings = torch.cat(train_embeddings).cpu().numpy()\n",
    "    train_labels = torch.cat(train_labels).cpu().numpy()\n",
    "\n",
    "    # Initialize the k-NN classifier\n",
    "    knn = KNeighborsClassifier(n_neighbors=k)\n",
    "    knn.fit(train_embeddings, train_labels)\n",
    "\n",
    "    # Store predictions, true labels, and loss values\n",
    "    all_preds = []\n",
    "    all_labels = []\n",
    "    running_loss = 0.0\n",
    "    total_batches = 0\n",
    "\n",
    "    with torch.no_grad():\n",
    "        for batch_data, batch_labels in test_loader:\n",
    "            #batch_data = batch_data.view(batch_data.size(0), -1).to(device)\n",
    "            batch_data = batch_data.to(device)\n",
    "            embeddings = model(batch_data).cpu().numpy()\n",
    "\n",
    "            # Perform k-NN classification in embedding space\n",
    "            predicted_labels = knn.predict(embeddings)\n",
    "\n",
    "            # Store predictions and true labels\n",
    "            all_preds.extend(predicted_labels)\n",
    "            all_labels.extend(batch_labels.cpu().numpy())\n",
    "\n",
    "            # Compute loss based on pairs in the test set\n",
    "            try:\n",
    "                # Generate pairs for loss computation\n",
    "                pairs_1, pairs_2, labels = generate_pairs(batch_data, batch_labels, num_samples_for_pairs)\n",
    "                pairs_1, pairs_2, labels = pairs_1.to(device), pairs_2.to(device), labels.to(device)\n",
    "\n",
    "                # Compute embeddings for pairs\n",
    "                embeddings_x1 = model(pairs_1)\n",
    "                embeddings_x2 = model(pairs_2)\n",
    "\n",
    "                # Compute loss\n",
    "                loss = criterion(embeddings_x1, embeddings_x2, labels)\n",
    "                running_loss += loss\n",
    "                total_batches += 1\n",
    "            except Exception as e:\n",
    "                print(f\"Error generating pairs: {e}\")\n",
    "                pass\n",
    "\n",
    "    # Average loss over all batches\n",
    "    if total_batches > 0:\n",
    "        avg_loss = running_loss / total_batches\n",
    "    else:\n",
    "        avg_loss = 0.0\n",
    "\n",
    "    print(f'Average loss on test set: {avg_loss:.4f}')\n",
    "\n",
    "    # Convert predictions and true labels to tensors for consistency\n",
    "    y_pred = torch.tensor(all_preds)\n",
    "    y_label = torch.tensor(all_labels)\n",
    "\n",
    "    return avg_loss, y_pred, y_label\n",
    "\n",
    "def test(cid, net, criterion, trainloaders, testloader, device: str):\n",
    "\n",
    "    loss = 0.0\n",
    "    net = net.to(device)\n",
    "    net.eval()\n",
    "    num_classes = 26  # Update this if you add more datasets\n",
    "    accuracy = MulticlassAccuracy(num_classes=num_classes, average='macro').to(device)\n",
    "    precision = MulticlassPrecision(num_classes=num_classes, average='macro').to(device)\n",
    "    recall = MulticlassRecall(num_classes=num_classes, average='macro').to(device)\n",
    "    f1 = MulticlassF1Score(num_classes=num_classes, average='macro').to(device)\n",
    "\n",
    "    loss, predicted, label = knn_in_embedding_space(net, trainloaders, testloader, criterion,  k=1, device = device)\n",
    "    predicted = torch.tensor(predicted).to(device)\n",
    "    label = torch.tensor(label).to(device)\n",
    "\n",
    "\n",
    "    accuracy.update(predicted, label)\n",
    "    precision.update(predicted, label)\n",
    "    recall.update(predicted, label)\n",
    "    f1.update(predicted, label)\n",
    "\n",
    "    acc = accuracy.compute().item()\n",
    "    prec = precision.compute().item()\n",
    "    rec = recall.compute().item()\n",
    "    f1_score = f1.compute().item()\n",
    "\n",
    "    return loss, acc, prec, rec, f1_score"
   ]
  },
  {
   "cell_type": "code",
   "execution_count": 13,
   "id": "5ddf9635-08ea-4020-abba-b9ca4a93ee3c",
   "metadata": {
    "id": "5ddf9635-08ea-4020-abba-b9ca4a93ee3c"
   },
   "outputs": [],
   "source": [
    "import matplotlib.pyplot as plt\n",
    "from sklearn.decomposition import PCA\n",
    "\n",
    "def plot_2d_embedding_space(model, data_loader, n_samples=1000, device = 'cpu'):\n",
    "    \"\"\"\n",
    "    Plots the 2D embedding space of the model using PCA.\n",
    "\n",
    "    :param model: The embedding model.\n",
    "    :param data_loader: DataLoader containing the dataset to visualize.\n",
    "    :param n_samples: Number of samples to plot.\n",
    "    \"\"\"\n",
    "    model.eval()  # Set model to evaluation mode\n",
    "\n",
    "    embeddings = []\n",
    "    labels = []\n",
    "\n",
    "    # Extract embeddings and labels\n",
    "    with torch.no_grad():\n",
    "        for batch_data, batch_labels in data_loader:\n",
    "            # Flatten the input images and move to device\n",
    "            #batch_data = batch_data.view(batch_data.size(0), -1).to(device)\n",
    "            batch_data = batch_data.to(device)\n",
    "\n",
    "            # Get embeddings from the model\n",
    "            batch_embeddings = model(batch_data.float()).cpu().numpy()\n",
    "            embeddings.append(batch_embeddings)\n",
    "            labels.append(batch_labels.numpy())\n",
    "\n",
    "            # Stop when we've collected enough samples\n",
    "            if len(embeddings) * batch_data.size(0) >= n_samples:\n",
    "                break\n",
    "\n",
    "    # Concatenate all embeddings and labels\n",
    "    embeddings = np.concatenate(embeddings, axis=0)[:n_samples]\n",
    "    labels = np.concatenate(labels, axis=0)[:n_samples]\n",
    "\n",
    "    # Apply PCA to reduce to 2D\n",
    "    pca = PCA(n_components=2)\n",
    "    embeddings_2d = pca.fit_transform(embeddings)\n",
    "    \n",
    "     # Create a color map with at least 26 distinct colors\n",
    "    cmap_26 = plt.cm.get_cmap(\"tab20\", 26)  # Using a colormap with 26 distinct colors\n",
    "\n",
    "    # Plot the embeddings\n",
    "    plt.figure(figsize=(10, 7))\n",
    "    #scatter = plt.scatter(embeddings_2d[:, 0], embeddings_2d[:, 1], c=labels, cmap='tab10', alpha=0.7)a\n",
    "    scatter = plt.scatter(embeddings_2d[:, 0], embeddings_2d[:, 1], c=labels, cmap=cmap_26, alpha=0.7)\n",
    "\n",
    "    # Add legend\n",
    "    legend = plt.legend(*scatter.legend_elements(), title=\"Classes\")\n",
    "    plt.gca().add_artist(legend)\n",
    "\n",
    "    plt.title(\"2D Embedding Space (PCA)\")\n",
    "    plt.xlabel(\"PCA Component 1\")\n",
    "    plt.ylabel(\"PCA Component 2\")\n",
    "    plt.show()\n",
    "\n",
    "\n",
    "def plot_s_vectors_with_prototypes(model, loss_model, data_loader, device,  n_pairs=100, pca_components=2):\n",
    "    \"\"\"\n",
    "    Plots the vectors `s = |x1 - x2|` for similar (green) and dissimilar (red) pairs,\n",
    "    along with the prototypical vectors represented as crosses.\n",
    "\n",
    "    :param model: The embedding model.\n",
    "    :param loss_model: The prototypical loss model containing the learned prototypes.\n",
    "    :param data_loader: DataLoader containing the dataset to visualize.\n",
    "    :param n_pairs: Number of pairs to sample and plot.\n",
    "    :param pca_components: Number of PCA components to reduce the vectors to 2D.\n",
    "    \"\"\"\n",
    "    model.eval()  # Set model to evaluation mode\n",
    "    vectors_s = []\n",
    "    markers = []  # Labels for coloring (1 for similar, 0 for dissimilar)\n",
    "\n",
    "    # Extract pairs and compute vector `s`\n",
    "    with torch.no_grad():\n",
    "        for batch_data, batch_labels in data_loader:\n",
    "            # Flatten the input images and move to device\n",
    "            #batch_data = batch_data.view(batch_data.size(0), -1).to(device)\n",
    "            batch_data = batch_data.to(device)\n",
    "\n",
    "            # Generate pairs of samples (both similar and dissimilar)\n",
    "            pairs_1, pairs_2, labels = generate_pairs(batch_data, batch_labels, 100)\n",
    "            pairs_1, pairs_2, labels = pairs_1.to(device), pairs_2.to(device), labels.to(device)\n",
    "\n",
    "\n",
    "            # Get embeddings for each pair\n",
    "            embeddings_x1 = model(pairs_1.float()).cpu().numpy()\n",
    "            embeddings_x2 = model(pairs_2.float()).cpu().numpy()\n",
    "\n",
    "            # Compute the absolute difference vector `s = |x1 - x2|`\n",
    "            s_vectors = np.abs(embeddings_x1 - embeddings_x2)\n",
    "            vectors_s.append(s_vectors)\n",
    "            markers.append(labels.cpu().numpy())\n",
    "\n",
    "            # Stop when we've collected enough pairs\n",
    "            if len(vectors_s) * len(pairs_2) >= n_pairs:\n",
    "                break\n",
    "\n",
    "    # Concatenate vectors `s` and their corresponding markers\n",
    "    vectors_s = np.concatenate(vectors_s, axis=0)[:n_pairs]\n",
    "    markers = np.concatenate(markers, axis=0)[:n_pairs]\n",
    "\n",
    "    # Apply PCA to reduce the dimensionality of `s` vectors to 2D for plotting\n",
    "    pca = PCA(n_components=pca_components)\n",
    "    vectors_s_2d = pca.fit_transform(vectors_s)\n",
    "\n",
    "    # Get prototypical vectors from the loss model (both similar and dissimilar)\n",
    "    similar_prototypes = loss_model.similar_prototypes.detach().cpu().numpy()\n",
    "    dissimilar_prototypes = loss_model.dissimilar_prototypes.detach().cpu().numpy()\n",
    "\n",
    "    # Reduce prototypical vectors to 2D using the same PCA model\n",
    "    similar_prototypes_2d = pca.transform(similar_prototypes)\n",
    "    dissimilar_prototypes_2d = pca.transform(dissimilar_prototypes)\n",
    "\n",
    "    # Plot the vectors `s` in 2D, using green for similar pairs and red for dissimilar pairs\n",
    "    plt.figure(figsize=(10, 7))\n",
    "    for i, marker in enumerate(markers):\n",
    "        color = 'green' if marker == 1 else 'red'\n",
    "        plt.scatter(vectors_s_2d[i, 0], vectors_s_2d[i, 1], color=color, alpha=0.7)\n",
    "\n",
    "    # Plot the prototypical vectors as large crosses\n",
    "    plt.scatter(similar_prototypes_2d[:, 0], similar_prototypes_2d[:, 1],\n",
    "                color='green', marker='x', s=200, label='Similar Prototypes')\n",
    "\n",
    "    plt.scatter(dissimilar_prototypes_2d[:, 0], dissimilar_prototypes_2d[:, 1],\n",
    "                color='red', marker='x', s=200, label='Dissimilar Prototypes')\n",
    "\n",
    "    # Add title and labels\n",
    "    plt.title(f\"2D Plot of {n_pairs} Sample Pairs with Prototypical Vectors\")\n",
    "    plt.xlabel(\"PCA Component 1\")\n",
    "    plt.ylabel(\"PCA Component 2\")\n",
    "\n",
    "    # Add a legend for clarity\n",
    "    plt.legend()\n",
    "\n",
    "    # Show plot\n",
    "    plt.show()"
   ]
  },
  {
   "cell_type": "code",
   "execution_count": 10,
   "id": "8e8c8679-e710-4c47-a6f4-7f3c624a3d5a",
   "metadata": {
    "colab": {
     "base_uri": "https://localhost:8080/"
    },
    "id": "8e8c8679-e710-4c47-a6f4-7f3c624a3d5a",
    "outputId": "a3750041-9ff6-4ad2-d0ac-0030141df035"
   },
   "outputs": [
    {
     "name": "stderr",
     "output_type": "stream",
     "text": [
      "/home/ivo/.local/lib/python3.8/site-packages/torch/cuda/__init__.py:138: UserWarning: CUDA initialization: Unexpected error from cudaGetDeviceCount(). Did you run some cuda functions before calling NumCudaDevices() that might have already set an error? Error 803: system has unsupported display driver / cuda driver combination (Triggered internally at ../c10/cuda/CUDAFunctions.cpp:108.)\n",
      "  return torch._C._cuda_getDeviceCount() > 0\n",
      "/home/ivo/.local/lib/python3.8/site-packages/torchvision/models/_utils.py:208: UserWarning: The parameter 'pretrained' is deprecated since 0.13 and may be removed in the future, please use 'weights' instead.\n",
      "  warnings.warn(\n",
      "/home/ivo/.local/lib/python3.8/site-packages/torchvision/models/_utils.py:223: UserWarning: Arguments other than a weight enum or `None` for 'weights' are deprecated since 0.13 and may be removed in the future. The current behavior is equivalent to passing `weights=None`.\n",
      "  warnings.warn(msg)\n"
     ]
    },
    {
     "name": "stdout",
     "output_type": "stream",
     "text": [
      "Starting Pretraining with Prototypical Center Loss...\n",
      "Iniciando época 1\n"
     ]
    },
    {
     "name": "stderr",
     "output_type": "stream",
     "text": [
      "Época 1: 100%|███████████████████████████████| 13/13 [00:23<00:00,  1.84s/batch]\n"
     ]
    },
    {
     "name": "stdout",
     "output_type": "stream",
     "text": [
      "Pretrain Epoch [1/5], Loss: 24.5603\n",
      "Iniciando época 2\n"
     ]
    },
    {
     "name": "stderr",
     "output_type": "stream",
     "text": [
      "Época 2: 100%|███████████████████████████████| 13/13 [00:21<00:00,  1.65s/batch]\n"
     ]
    },
    {
     "name": "stdout",
     "output_type": "stream",
     "text": [
      "Pretrain Epoch [2/5], Loss: 17.6368\n",
      "Iniciando época 3\n"
     ]
    },
    {
     "name": "stderr",
     "output_type": "stream",
     "text": [
      "Época 3: 100%|███████████████████████████████| 13/13 [00:20<00:00,  1.59s/batch]\n"
     ]
    },
    {
     "name": "stdout",
     "output_type": "stream",
     "text": [
      "Pretrain Epoch [3/5], Loss: 14.4247\n",
      "Iniciando época 4\n"
     ]
    },
    {
     "name": "stderr",
     "output_type": "stream",
     "text": [
      "Época 4: 100%|███████████████████████████████| 13/13 [00:14<00:00,  1.10s/batch]\n"
     ]
    },
    {
     "name": "stdout",
     "output_type": "stream",
     "text": [
      "Pretrain Epoch [4/5], Loss: 12.1111\n",
      "Iniciando época 5\n"
     ]
    },
    {
     "name": "stderr",
     "output_type": "stream",
     "text": [
      "Época 5: 100%|███████████████████████████████| 13/13 [00:13<00:00,  1.06s/batch]"
     ]
    },
    {
     "name": "stdout",
     "output_type": "stream",
     "text": [
      "Pretrain Epoch [5/5], Loss: 10.2026\n"
     ]
    },
    {
     "name": "stderr",
     "output_type": "stream",
     "text": [
      "\n"
     ]
    }
   ],
   "source": [
    "embedding_size = 26\n",
    "\n",
    "DEVICE = torch.device(\"cuda:0\" if torch.cuda.is_available() else \"cpu\")\n",
    "\n",
    "train_loader, test_loader = get_data_loaders(args['dataset'], args['batch_size'])\n",
    "\n",
    "if args['model'] == \"twoNN\":\n",
    "    embedding_model = TwoNN(emb_dim=embedding_size).to(DEVICE)\n",
    "elif args['model'] == \"lenet5\":\n",
    "    embedding_model = LeNet5(emb_dim=embedding_size).to(DEVICE)\n",
    "elif args['model'] == \"mobilenetv2\":\n",
    "    mobilenet = models.mobilenet_v2(pretrained=False)\n",
    "    mobilenet.features[0][0] = nn.Conv2d(1, 32, kernel_size=3, stride=2, padding=1, bias=False)\n",
    "    mobilenet.classifier[1] = torch.nn.Linear(mobilenet.classifier[1].in_features, embedding_size)\n",
    "    embedding_model = mobilenet.to(DEVICE)\n",
    "\n",
    "criterion = PrototypicalCenterLoss(num_classes=26, embedding_size=embedding_size, margin=1.0).to(DEVICE)  # 10 classes for FashionMNIST\n",
    "optimizer_pretrain = torch.optim.Adam(list(embedding_model.parameters()) + list(criterion.parameters()), lr=0.001)\n",
    "# Pretrain the encoder using prototypical center loss\n",
    "print(\"Starting Pretraining with Prototypical Center Loss...\")\n",
    "pretrain_model_prototypical_center(embedding_model, train_loader, criterion, optimizer_pretrain, 5, DEVICE)\n"
   ]
  },
  {
   "cell_type": "code",
   "execution_count": 11,
   "id": "k--HRS7SNR8L",
   "metadata": {
    "colab": {
     "base_uri": "https://localhost:8080/",
     "height": 356
    },
    "id": "k--HRS7SNR8L",
    "outputId": "73bad119-4002-483b-b727-f6486f9c567b"
   },
   "outputs": [
    {
     "name": "stdout",
     "output_type": "stream",
     "text": [
      "Starting Main Training...\n"
     ]
    },
    {
     "name": "stderr",
     "output_type": "stream",
     "text": [
      "Época 1: 100%|███████████████████████████████| 13/13 [00:12<00:00,  1.00batch/s]\n"
     ]
    },
    {
     "name": "stdout",
     "output_type": "stream",
     "text": [
      "Epoch [1/5], Loss: 0.5851, LR: 0.010000\n"
     ]
    },
    {
     "name": "stderr",
     "output_type": "stream",
     "text": [
      "Época 2: 100%|███████████████████████████████| 13/13 [00:12<00:00,  1.01batch/s]\n"
     ]
    },
    {
     "name": "stdout",
     "output_type": "stream",
     "text": [
      "Epoch [2/5], Loss: 0.5342, LR: 0.010000\n"
     ]
    },
    {
     "name": "stderr",
     "output_type": "stream",
     "text": [
      "Época 3: 100%|███████████████████████████████| 13/13 [00:13<00:00,  1.05s/batch]\n"
     ]
    },
    {
     "name": "stdout",
     "output_type": "stream",
     "text": [
      "Epoch [3/5], Loss: 0.4953, LR: 0.010000\n"
     ]
    },
    {
     "name": "stderr",
     "output_type": "stream",
     "text": [
      "Época 4: 100%|███████████████████████████████| 13/13 [00:19<00:00,  1.50s/batch]\n"
     ]
    },
    {
     "name": "stdout",
     "output_type": "stream",
     "text": [
      "Epoch [4/5], Loss: 0.4762, LR: 0.010000\n"
     ]
    },
    {
     "name": "stderr",
     "output_type": "stream",
     "text": [
      "Época 5: 100%|███████████████████████████████| 13/13 [00:17<00:00,  1.34s/batch]"
     ]
    },
    {
     "name": "stdout",
     "output_type": "stream",
     "text": [
      "Epoch [5/5], Loss: 0.4597, LR: 0.010000\n"
     ]
    },
    {
     "name": "stderr",
     "output_type": "stream",
     "text": [
      "\n"
     ]
    }
   ],
   "source": [
    "criterion = LearnablePrototypicalLossWithDiversityRegularization(embedding_dim=embedding_size,\n",
    "                                                  num_similar_prototypes=2,\n",
    "                                                  num_dissimilar_prototypes=2).to(DEVICE)\n",
    "\n",
    "optimizer = torch.optim.Adam(list(criterion.parameters()), lr=0.01)\n",
    "# Train with dynamic learning rate\n",
    "print(\"Starting Main Training...\")\n",
    "train_model_with_dynamic_lr(embedding_model, criterion, optimizer, train_loader, 5, DEVICE, frozen = True)\n"
   ]
  },
  {
   "cell_type": "code",
   "execution_count": 14,
   "id": "Tx0LVpEXQiEW",
   "metadata": {
    "colab": {
     "base_uri": "https://localhost:8080/",
     "height": 1000
    },
    "id": "Tx0LVpEXQiEW",
    "outputId": "69d40e1f-6042-45c2-b3bf-28cfcb7afdc7"
   },
   "outputs": [
    {
     "name": "stdout",
     "output_type": "stream",
     "text": [
      "Starting Main Training V2...\n"
     ]
    },
    {
     "name": "stderr",
     "output_type": "stream",
     "text": [
      "Época 1: 100%|███████████████████████████████| 13/13 [01:06<00:00,  5.10s/batch]\n"
     ]
    },
    {
     "name": "stdout",
     "output_type": "stream",
     "text": [
      "Epoch [1/5], Loss: 0.4798, LR: 0.010000\n"
     ]
    },
    {
     "name": "stderr",
     "output_type": "stream",
     "text": [
      "Época 2: 100%|███████████████████████████████| 13/13 [01:06<00:00,  5.14s/batch]\n"
     ]
    },
    {
     "name": "stdout",
     "output_type": "stream",
     "text": [
      "Epoch [2/5], Loss: 0.4864, LR: 0.010000\n"
     ]
    },
    {
     "name": "stderr",
     "output_type": "stream",
     "text": [
      "Época 3: 100%|███████████████████████████████| 13/13 [01:07<00:00,  5.16s/batch]\n"
     ]
    },
    {
     "name": "stdout",
     "output_type": "stream",
     "text": [
      "Epoch [3/5], Loss: 0.4681, LR: 0.010000\n"
     ]
    },
    {
     "name": "stderr",
     "output_type": "stream",
     "text": [
      "Época 4: 100%|███████████████████████████████| 13/13 [01:01<00:00,  4.75s/batch]\n"
     ]
    },
    {
     "name": "stdout",
     "output_type": "stream",
     "text": [
      "Epoch [4/5], Loss: 0.4573, LR: 0.010000\n"
     ]
    },
    {
     "name": "stderr",
     "output_type": "stream",
     "text": [
      "Época 5: 100%|███████████████████████████████| 13/13 [00:55<00:00,  4.27s/batch]\n"
     ]
    },
    {
     "name": "stdout",
     "output_type": "stream",
     "text": [
      "Epoch [5/5], Loss: 0.4487, LR: 0.010000\n"
     ]
    },
    {
     "name": "stderr",
     "output_type": "stream",
     "text": [
      "/tmp/ipykernel_48628/2726138576.py:42: MatplotlibDeprecationWarning: The get_cmap function was deprecated in Matplotlib 3.7 and will be removed two minor releases later. Use ``matplotlib.colormaps[name]`` or ``matplotlib.colormaps.get_cmap(obj)`` instead.\n",
      "  cmap_26 = plt.cm.get_cmap(\"tab20\", 26)  # Using a colormap with 26 distinct colors\n"
     ]
    },
    {
     "data": {
      "image/png": "[encoded data removed]",
      "text/plain": [
       "<Figure size 1000x700 with 1 Axes>"
      ]
     },
     "metadata": {},
     "output_type": "display_data"
    }
   ],
   "source": [
    "optimizer = torch.torch.optim.SGD([{'params': embedding_model.parameters(), 'lr' : 0.01}] + [{'params' : criterion.parameters(), 'lr' : 0.01}])\n",
    "print(\"Starting Main Training V2...\")\n",
    "train_model_with_dynamic_lr(embedding_model, criterion, optimizer, train_loader, 5, DEVICE)\n",
    "\n",
    "plot_2d_embedding_space(embedding_model, test_loader, n_samples=1000, device = DEVICE)\n"
   ]
  },
  {
   "cell_type": "code",
   "execution_count": 15,
   "id": "6384003e-388e-4186-85dd-8c6d25d4faba",
   "metadata": {
    "colab": {
     "base_uri": "https://localhost:8080/",
     "height": 765
    },
    "id": "6384003e-388e-4186-85dd-8c6d25d4faba",
    "outputId": "06dd56d1-8908-4f64-e8b2-72ae4cdd06f1",
    "scrolled": true
   },
   "outputs": [
    {
     "name": "stdout",
     "output_type": "stream",
     "text": [
      "Average loss on test set: 0.4956\n",
      "{'Loss': tensor(0.4956), 'Accuracy': 0.6957013607025146, 'Precision': 0.6911635398864746, 'Recall': 0.6957013607025146, 'F1 Score': 0.6892040371894836}\n"
     ]
    },
    {
     "name": "stderr",
     "output_type": "stream",
     "text": [
      "/tmp/ipykernel_48628/2529446955.py:86: UserWarning: To copy construct from a tensor, it is recommended to use sourceTensor.clone().detach() or sourceTensor.clone().detach().requires_grad_(True), rather than torch.tensor(sourceTensor).\n",
      "  predicted = torch.tensor(predicted).to(device)\n",
      "/tmp/ipykernel_48628/2529446955.py:87: UserWarning: To copy construct from a tensor, it is recommended to use sourceTensor.clone().detach() or sourceTensor.clone().detach().requires_grad_(True), rather than torch.tensor(sourceTensor).\n",
      "  label = torch.tensor(label).to(device)\n"
     ]
    },
    {
     "data": {
      "image/png": "[encoded data removed]",
      "text/plain": [
       "<Figure size 1000x700 with 1 Axes>"
      ]
     },
     "metadata": {},
     "output_type": "display_data"
    }
   ],
   "source": [
    "# Evaluate the model with k-NN on the test set\n",
    "loss, accuracy, precision, recall, f1_score = test(0, embedding_model, criterion, train_loader, test_loader, DEVICE)\n",
    "\n",
    "# Save results to CSV\n",
    "results = {\n",
    "        \"Loss\": loss,\n",
    "        \"Accuracy\": accuracy,\n",
    "        \"Precision\": precision,\n",
    "        \"Recall\": recall,\n",
    "        \"F1 Score\": f1_score\n",
    "}\n",
    "\n",
    "print(results)\n",
    "\n",
    "plot_s_vectors_with_prototypes(embedding_model, criterion, test_loader, n_pairs=100, device = DEVICE)"
   ]
  },
  {
   "cell_type": "code",
   "execution_count": null,
   "id": "dde05b5f",
   "metadata": {},
   "outputs": [],
   "source": []
  },
  {
   "cell_type": "markdown",
   "id": "48c981ea",
   "metadata": {},
   "source": [
    "# Transfer Learning"
   ]
  },
  {
   "cell_type": "code",
   "execution_count": 16,
   "id": "396e8dd2",
   "metadata": {},
   "outputs": [
    {
     "name": "stderr",
     "output_type": "stream",
     "text": [
      "/home/ivo/.local/lib/python3.8/site-packages/torchvision/models/_utils.py:208: UserWarning: The parameter 'pretrained' is deprecated since 0.13 and may be removed in the future, please use 'weights' instead.\n",
      "  warnings.warn(\n",
      "/home/ivo/.local/lib/python3.8/site-packages/torchvision/models/_utils.py:223: UserWarning: Arguments other than a weight enum or `None` for 'weights' are deprecated since 0.13 and may be removed in the future. The current behavior is equivalent to passing `weights=None`.\n",
      "  warnings.warn(msg)\n"
     ]
    },
    {
     "name": "stdout",
     "output_type": "stream",
     "text": [
      "dict_keys(['Epoch', 'state_dict', 'optim_dict'])\n",
      "torch.Size([26, 512])\n"
     ]
    },
    {
     "data": {
      "text/plain": [
       "<All keys matched successfully>"
      ]
     },
     "execution_count": 16,
     "metadata": {},
     "output_type": "execute_result"
    }
   ],
   "source": [
    "import torch\n",
    "import torch.nn as nn\n",
    "from torchvision import models\n",
    "\n",
    "DEVICE = torch.device(\"cuda:0\" if torch.cuda.is_available() else \"cpu\")\n",
    "\n",
    "# Carregar o modelo ResNet18\n",
    "resnet18 = models.resnet18(pretrained=False, num_classes=NUM_CLASSES)  # Não precisa ser pré-treinado se você tiver os pesos\n",
    "\n",
    "# Carregar o arquivo de checkpoint\n",
    "checkpoint = torch.load('../weigths/noise/resnet18_best.pth')\n",
    "\n",
    "# Ver as chaves dentro do checkpoint\n",
    "print(checkpoint.keys())\n",
    "\n",
    "# A chave que contém os pesos pode ser \"state_dict\"\n",
    "model_weights = checkpoint['state_dict']\n",
    "\n",
    "# Verificar as chaves dos pesos para a última camada\n",
    "print(model_weights['fc.weight'].shape)  # Isso vai retornar o tamanho da camada final\n",
    "\n",
    "# Aplicar os pesos ao modelo ResNet18\n",
    "resnet18.load_state_dict(model_weights, strict=False)\n",
    "#resnet18.load_state_dict(checkpoint)  # load\n"
   ]
  },
  {
   "cell_type": "code",
   "execution_count": 17,
   "id": "7e24c765",
   "metadata": {},
   "outputs": [
    {
     "name": "stdout",
     "output_type": "stream",
     "text": [
      "ResNet Conv1 weight shape: torch.Size([64, 3, 7, 7])\n",
      "MobileNet Conv1 weight shape: torch.Size([32, 1, 3, 3])\n",
      "Output shape: torch.Size([1, 26])\n",
      "Número de canais de entrada esperados:  1\n",
      "Tamanho do kernel da primeira camada convolucional:  (3, 3)\n",
      "Saída do MobileNetV2: torch.Size([1, 26])\n",
      "Tamanho da camada final (classifier[1]): 26\n"
     ]
    }
   ],
   "source": [
    "import torch\n",
    "import torch.nn as nn\n",
    "from torchvision import models\n",
    "# Carregar o modelo ResNet18\n",
    "resnet18 = models.resnet18(pretrained=False, num_classes=NUM_CLASSES)  # Não precisa ser pré-treinado se você tiver os pesos\n",
    "\n",
    "#checkpoint = torch.load('../../weigths/blur/resnet18_best.pth')\n",
    "checkpoint = torch.load('../weigths/noise/resnet18_best.pth')\n",
    "\n",
    "#print(checkpoint.keys())\n",
    "# Imprimir as chaves do 'state_dict' (os pesos do modelo)\n",
    "#print(\"Chaves do state_dict:\", checkpoint['state_dict'].keys())\n",
    "\n",
    "resnet_weights = checkpoint['state_dict']\n",
    "\n",
    "resnet18.load_state_dict(resnet_weights, strict=False)\n",
    "\n",
    "mobilenet = models.mobilenet_v2(weights='MobileNet_V2_Weights.IMAGENET1K_V1')\n",
    "#mobilenet = models.mobilenet_v2(pretrained=False)\n",
    "mobilenet.features[0][0] = nn.Conv2d(1, 32, kernel_size=3, stride=2, padding=1, bias=False)\n",
    "\n",
    "# Vamos assumir que conseguimos mapear algumas camadas diretamente.\n",
    "mobilenet_weights = mobilenet.state_dict()\n",
    "\n",
    "# Para cada camada, você precisaria fazer um mapeamento entre ResNet e MobileNet\n",
    "for name, param in resnet_weights.items():\n",
    "    if name in mobilenet_weights:\n",
    "        # Adapte o nome e a forma das camadas\n",
    "        mobilenet_weights[name] = param\n",
    "\n",
    "mobilenet.load_state_dict(mobilenet_weights)\n",
    "\n",
    "# Faz com que a mobilenet tenha saída igual ao número de classes\n",
    "mobilenet.classifier[1] = nn.Linear(mobilenet.classifier[1].in_features, NUM_CLASSES)\n",
    "# Verificar a forma do peso da primeira camada convolucional em ambos os modelos\n",
    "print(\"ResNet Conv1 weight shape:\", resnet_weights['conv1.weight'].shape)\n",
    "print(\"MobileNet Conv1 weight shape:\", mobilenet_weights['features.0.0.weight'].shape)\n",
    "\n",
    "input_image = torch.randn(1, 1, 64, 64).to(DEVICE)  # Imagem com 1 canal (escala de cinza)\n",
    "\n",
    "# Passar a imagem pelo modelo\n",
    "output = mobilenet(input_image)\n",
    "\n",
    "# Verificar o formato da saída\n",
    "print(\"Output shape:\", output.shape)\n",
    "\n",
    "\n",
    "# Acessar a primeira camada convolucional (features[0])\n",
    "first_conv_layer = mobilenet.features[0][0]\n",
    "\n",
    "# Verificar os atributos do peso\n",
    "print(\"Número de canais de entrada esperados: \", first_conv_layer.in_channels)\n",
    "print(\"Tamanho do kernel da primeira camada convolucional: \", first_conv_layer.kernel_size)\n",
    "\n",
    "# Criar uma imagem de teste com 1 canal (escala de cinza) e tamanho (1, 64, 64)\n",
    "input_image = torch.randn(1, 1, 64, 64)  # Batch size = 1, 1 canal, 64x64 pixels\n",
    "\n",
    "# Passar a imagem pelo modelo\n",
    "output = mobilenet(input_image)\n",
    "\n",
    "# Imprimir o tamanho da saída (o que deve ser um vetor com as características do embedding)\n",
    "print(\"Saída do MobileNetV2:\", output.shape)\n",
    "print(\"Tamanho da camada final (classifier[1]):\", mobilenet.classifier[1].out_features)\n",
    "embedding_model = mobilenet.to(DEVICE)"
   ]
  },
  {
   "cell_type": "code",
   "execution_count": null,
   "id": "c29802ea",
   "metadata": {},
   "outputs": [],
   "source": []
  },
  {
   "cell_type": "code",
   "execution_count": 18,
   "id": "99ef41ab",
   "metadata": {},
   "outputs": [
    {
     "name": "stdout",
     "output_type": "stream",
     "text": [
      "Starting Pretraining with Prototypical Center Loss...\n",
      "Iniciando época 1\n"
     ]
    },
    {
     "name": "stderr",
     "output_type": "stream",
     "text": [
      "Época 1: 100%|███████████████████████████████| 13/13 [00:22<00:00,  1.75s/batch]\n"
     ]
    },
    {
     "name": "stdout",
     "output_type": "stream",
     "text": [
      "Pretrain Epoch [1/10], Loss: 20.2996\n",
      "Iniciando época 2\n"
     ]
    },
    {
     "name": "stderr",
     "output_type": "stream",
     "text": [
      "Época 2: 100%|███████████████████████████████| 13/13 [00:22<00:00,  1.74s/batch]\n"
     ]
    },
    {
     "name": "stdout",
     "output_type": "stream",
     "text": [
      "Pretrain Epoch [2/10], Loss: 10.4692\n",
      "Iniciando época 3\n"
     ]
    },
    {
     "name": "stderr",
     "output_type": "stream",
     "text": [
      "Época 3: 100%|███████████████████████████████| 13/13 [00:22<00:00,  1.74s/batch]\n"
     ]
    },
    {
     "name": "stdout",
     "output_type": "stream",
     "text": [
      "Pretrain Epoch [3/10], Loss: 6.7687\n",
      "Iniciando época 4\n"
     ]
    },
    {
     "name": "stderr",
     "output_type": "stream",
     "text": [
      "Época 4: 100%|███████████████████████████████| 13/13 [00:23<00:00,  1.81s/batch]\n"
     ]
    },
    {
     "name": "stdout",
     "output_type": "stream",
     "text": [
      "Pretrain Epoch [4/10], Loss: 5.7161\n",
      "Iniciando época 5\n"
     ]
    },
    {
     "name": "stderr",
     "output_type": "stream",
     "text": [
      "Época 5: 100%|███████████████████████████████| 13/13 [00:19<00:00,  1.48s/batch]\n"
     ]
    },
    {
     "name": "stdout",
     "output_type": "stream",
     "text": [
      "Pretrain Epoch [5/10], Loss: 5.0368\n",
      "Iniciando época 6\n"
     ]
    },
    {
     "name": "stderr",
     "output_type": "stream",
     "text": [
      "Época 6: 100%|███████████████████████████████| 13/13 [00:24<00:00,  1.89s/batch]\n"
     ]
    },
    {
     "name": "stdout",
     "output_type": "stream",
     "text": [
      "Pretrain Epoch [6/10], Loss: 4.1924\n",
      "Iniciando época 7\n"
     ]
    },
    {
     "name": "stderr",
     "output_type": "stream",
     "text": [
      "Época 7: 100%|███████████████████████████████| 13/13 [00:16<00:00,  1.27s/batch]\n"
     ]
    },
    {
     "name": "stdout",
     "output_type": "stream",
     "text": [
      "Pretrain Epoch [7/10], Loss: 3.0612\n",
      "Iniciando época 8\n"
     ]
    },
    {
     "name": "stderr",
     "output_type": "stream",
     "text": [
      "Época 8: 100%|███████████████████████████████| 13/13 [00:15<00:00,  1.21s/batch]\n"
     ]
    },
    {
     "name": "stdout",
     "output_type": "stream",
     "text": [
      "Pretrain Epoch [8/10], Loss: 2.5131\n",
      "Iniciando época 9\n"
     ]
    },
    {
     "name": "stderr",
     "output_type": "stream",
     "text": [
      "Época 9: 100%|███████████████████████████████| 13/13 [00:15<00:00,  1.23s/batch]\n"
     ]
    },
    {
     "name": "stdout",
     "output_type": "stream",
     "text": [
      "Pretrain Epoch [9/10], Loss: 2.0787\n",
      "Iniciando época 10\n"
     ]
    },
    {
     "name": "stderr",
     "output_type": "stream",
     "text": [
      "Época 10: 100%|██████████████████████████████| 13/13 [00:15<00:00,  1.19s/batch]"
     ]
    },
    {
     "name": "stdout",
     "output_type": "stream",
     "text": [
      "Pretrain Epoch [10/10], Loss: 1.6304\n"
     ]
    },
    {
     "name": "stderr",
     "output_type": "stream",
     "text": [
      "\n"
     ]
    }
   ],
   "source": [
    "embedding_size = 26\n",
    "\n",
    "DEVICE = torch.device(\"cuda:0\" if torch.cuda.is_available() else \"cpu\")\n",
    "\n",
    "embedding_model = mobilenet.to(DEVICE)\n",
    "\n",
    "train_loader, test_loader = get_data_loaders(args['dataset'], args['batch_size'])\n",
    "\n",
    "'''\n",
    "Mesmo código de execução no primeiro caso mas com carregamento baseado nos pesos da resnet18\n",
    "'''\n",
    "\n",
    "criterion = PrototypicalCenterLoss(num_classes=26, embedding_size=embedding_size, margin=1.0).to(DEVICE)  # 10 classes for FashionMNIST\n",
    "optimizer_pretrain = torch.optim.Adam(list(embedding_model.parameters()) + list(criterion.parameters()), lr=0.001)\n",
    "# Pretrain the encoder using prototypical center loss\n",
    "print(\"Starting Pretraining with Prototypical Center Loss...\")\n",
    "pretrain_model_prototypical_center(embedding_model, train_loader, criterion, optimizer_pretrain, 10, DEVICE)\n"
   ]
  },
  {
   "cell_type": "code",
   "execution_count": null,
   "id": "547ce124",
   "metadata": {},
   "outputs": [],
   "source": []
  },
  {
   "cell_type": "code",
   "execution_count": 19,
   "id": "35fb2678",
   "metadata": {},
   "outputs": [
    {
     "name": "stdout",
     "output_type": "stream",
     "text": [
      "Starting Main Training...\n"
     ]
    },
    {
     "name": "stderr",
     "output_type": "stream",
     "text": [
      "Época 1: 100%|███████████████████████████████| 13/13 [00:16<00:00,  1.24s/batch]\n"
     ]
    },
    {
     "name": "stdout",
     "output_type": "stream",
     "text": [
      "Epoch [1/15], Loss: 0.3439, LR: 0.010000\n"
     ]
    },
    {
     "name": "stderr",
     "output_type": "stream",
     "text": [
      "Época 2: 100%|███████████████████████████████| 13/13 [00:24<00:00,  1.92s/batch]\n"
     ]
    },
    {
     "name": "stdout",
     "output_type": "stream",
     "text": [
      "Epoch [2/15], Loss: 0.3103, LR: 0.010000\n"
     ]
    },
    {
     "name": "stderr",
     "output_type": "stream",
     "text": [
      "Época 3: 100%|███████████████████████████████| 13/13 [00:14<00:00,  1.15s/batch]\n"
     ]
    },
    {
     "name": "stdout",
     "output_type": "stream",
     "text": [
      "Epoch [3/15], Loss: 0.2839, LR: 0.010000\n"
     ]
    },
    {
     "name": "stderr",
     "output_type": "stream",
     "text": [
      "Época 4: 100%|███████████████████████████████| 13/13 [00:14<00:00,  1.10s/batch]\n"
     ]
    },
    {
     "name": "stdout",
     "output_type": "stream",
     "text": [
      "Epoch [4/15], Loss: 0.2699, LR: 0.010000\n"
     ]
    },
    {
     "name": "stderr",
     "output_type": "stream",
     "text": [
      "Época 5: 100%|███████████████████████████████| 13/13 [00:13<00:00,  1.06s/batch]\n"
     ]
    },
    {
     "name": "stdout",
     "output_type": "stream",
     "text": [
      "Epoch [5/15], Loss: 0.2472, LR: 0.010000\n"
     ]
    },
    {
     "name": "stderr",
     "output_type": "stream",
     "text": [
      "Época 6: 100%|███████████████████████████████| 13/13 [00:15<00:00,  1.20s/batch]\n"
     ]
    },
    {
     "name": "stdout",
     "output_type": "stream",
     "text": [
      "Epoch [6/15], Loss: 0.2365, LR: 0.010000\n"
     ]
    },
    {
     "name": "stderr",
     "output_type": "stream",
     "text": [
      "Época 7: 100%|███████████████████████████████| 13/13 [00:14<00:00,  1.11s/batch]\n"
     ]
    },
    {
     "name": "stdout",
     "output_type": "stream",
     "text": [
      "Epoch [7/15], Loss: 0.2261, LR: 0.010000\n"
     ]
    },
    {
     "name": "stderr",
     "output_type": "stream",
     "text": [
      "Época 8: 100%|███████████████████████████████| 13/13 [00:14<00:00,  1.12s/batch]\n"
     ]
    },
    {
     "name": "stdout",
     "output_type": "stream",
     "text": [
      "Epoch [8/15], Loss: 0.2252, LR: 0.010000\n"
     ]
    },
    {
     "name": "stderr",
     "output_type": "stream",
     "text": [
      "Época 9: 100%|███████████████████████████████| 13/13 [00:16<00:00,  1.26s/batch]\n"
     ]
    },
    {
     "name": "stdout",
     "output_type": "stream",
     "text": [
      "Epoch [9/15], Loss: 0.2169, LR: 0.010000\n"
     ]
    },
    {
     "name": "stderr",
     "output_type": "stream",
     "text": [
      "Época 10: 100%|██████████████████████████████| 13/13 [00:14<00:00,  1.12s/batch]\n"
     ]
    },
    {
     "name": "stdout",
     "output_type": "stream",
     "text": [
      "Epoch [10/15], Loss: 0.2054, LR: 0.009000\n"
     ]
    },
    {
     "name": "stderr",
     "output_type": "stream",
     "text": [
      "Época 11: 100%|██████████████████████████████| 13/13 [00:13<00:00,  1.07s/batch]\n"
     ]
    },
    {
     "name": "stdout",
     "output_type": "stream",
     "text": [
      "Epoch [11/15], Loss: 0.2107, LR: 0.009000\n"
     ]
    },
    {
     "name": "stderr",
     "output_type": "stream",
     "text": [
      "Época 12: 100%|██████████████████████████████| 13/13 [00:13<00:00,  1.04s/batch]\n"
     ]
    },
    {
     "name": "stdout",
     "output_type": "stream",
     "text": [
      "Epoch [12/15], Loss: 0.2148, LR: 0.009000\n"
     ]
    },
    {
     "name": "stderr",
     "output_type": "stream",
     "text": [
      "Época 13: 100%|██████████████████████████████| 13/13 [00:13<00:00,  1.04s/batch]\n"
     ]
    },
    {
     "name": "stdout",
     "output_type": "stream",
     "text": [
      "Epoch [13/15], Loss: 0.2014, LR: 0.009000\n"
     ]
    },
    {
     "name": "stderr",
     "output_type": "stream",
     "text": [
      "Época 14: 100%|██████████████████████████████| 13/13 [00:13<00:00,  1.08s/batch]\n"
     ]
    },
    {
     "name": "stdout",
     "output_type": "stream",
     "text": [
      "Epoch [14/15], Loss: 0.1971, LR: 0.009000\n"
     ]
    },
    {
     "name": "stderr",
     "output_type": "stream",
     "text": [
      "Época 15: 100%|██████████████████████████████| 13/13 [00:13<00:00,  1.05s/batch]"
     ]
    },
    {
     "name": "stdout",
     "output_type": "stream",
     "text": [
      "Epoch [15/15], Loss: 0.1976, LR: 0.009000\n"
     ]
    },
    {
     "name": "stderr",
     "output_type": "stream",
     "text": [
      "\n"
     ]
    }
   ],
   "source": [
    "criterion = LearnablePrototypicalLossWithDiversityRegularization(embedding_dim=embedding_size,\n",
    "                                                  num_similar_prototypes=2,\n",
    "                                                  num_dissimilar_prototypes=2).to(DEVICE)\n",
    "\n",
    "optimizer = torch.optim.Adam(list(criterion.parameters()), lr=0.01)\n",
    "# Train with dynamic learning rate\n",
    "print(\"Starting Main Training...\")\n",
    "train_model_with_dynamic_lr(embedding_model, criterion, optimizer, train_loader, 15, DEVICE, frozen = True)\n"
   ]
  },
  {
   "cell_type": "code",
   "execution_count": null,
   "id": "1f6fefda",
   "metadata": {},
   "outputs": [],
   "source": []
  },
  {
   "cell_type": "code",
   "execution_count": null,
   "id": "35eb6de6",
   "metadata": {},
   "outputs": [
    {
     "name": "stdout",
     "output_type": "stream",
     "text": [
      "Starting Main Training V2...\n"
     ]
    },
    {
     "name": "stderr",
     "output_type": "stream",
     "text": [
      "Época 1: 100%|███████████████████████████████| 13/13 [00:48<00:00,  3.73s/batch]\n"
     ]
    },
    {
     "name": "stdout",
     "output_type": "stream",
     "text": [
      "Epoch [1/10], Loss: 0.1907, LR: 0.010000\n"
     ]
    },
    {
     "name": "stderr",
     "output_type": "stream",
     "text": [
      "Época 2: 100%|███████████████████████████████| 13/13 [00:44<00:00,  3.46s/batch]\n"
     ]
    },
    {
     "name": "stdout",
     "output_type": "stream",
     "text": [
      "Epoch [2/10], Loss: 0.1904, LR: 0.010000\n"
     ]
    },
    {
     "name": "stderr",
     "output_type": "stream",
     "text": [
      "Época 3: 100%|███████████████████████████████| 13/13 [00:49<00:00,  3.78s/batch]\n"
     ]
    },
    {
     "name": "stdout",
     "output_type": "stream",
     "text": [
      "Epoch [3/10], Loss: 0.1895, LR: 0.010000\n"
     ]
    },
    {
     "name": "stderr",
     "output_type": "stream",
     "text": [
      "Época 4: 100%|███████████████████████████████| 13/13 [00:45<00:00,  3.52s/batch]\n"
     ]
    },
    {
     "name": "stdout",
     "output_type": "stream",
     "text": [
      "Epoch [4/10], Loss: 0.1897, LR: 0.010000\n"
     ]
    },
    {
     "name": "stderr",
     "output_type": "stream",
     "text": [
      "Época 5: 100%|███████████████████████████████| 13/13 [00:43<00:00,  3.37s/batch]\n"
     ]
    },
    {
     "name": "stdout",
     "output_type": "stream",
     "text": [
      "Epoch [5/10], Loss: 0.1913, LR: 0.010000\n"
     ]
    },
    {
     "name": "stderr",
     "output_type": "stream",
     "text": [
      "Época 6: 100%|███████████████████████████████| 13/13 [00:43<00:00,  3.38s/batch]\n"
     ]
    },
    {
     "name": "stdout",
     "output_type": "stream",
     "text": [
      "Epoch [6/10], Loss: 0.1914, LR: 0.010000\n"
     ]
    },
    {
     "name": "stderr",
     "output_type": "stream",
     "text": [
      "Época 7: 100%|███████████████████████████████| 13/13 [00:47<00:00,  3.66s/batch]\n"
     ]
    },
    {
     "name": "stdout",
     "output_type": "stream",
     "text": [
      "Epoch [7/10], Loss: 0.1891, LR: 0.010000\n"
     ]
    },
    {
     "name": "stderr",
     "output_type": "stream",
     "text": [
      "Época 8: 100%|███████████████████████████████| 13/13 [00:48<00:00,  3.72s/batch]\n"
     ]
    },
    {
     "name": "stdout",
     "output_type": "stream",
     "text": [
      "Epoch [8/10], Loss: 0.1884, LR: 0.010000\n"
     ]
    },
    {
     "name": "stderr",
     "output_type": "stream",
     "text": [
      "Época 9:   8%|██▍                             | 1/13 [00:04<00:52,  4.40s/batch]"
     ]
    }
   ],
   "source": [
    "optimizer = torch.torch.optim.SGD([{'params': embedding_model.parameters(), 'lr' : 0.01}] + [{'params' : criterion.parameters(), 'lr' : 0.01}])\n",
    "print(\"Starting Main Training V2...\")\n",
    "train_model_with_dynamic_lr(embedding_model, criterion, optimizer, train_loader, 10, DEVICE)\n",
    "\n",
    "plot_2d_embedding_space(embedding_model, test_loader, n_samples=1000, device = DEVICE)"
   ]
  },
  {
   "cell_type": "code",
   "execution_count": null,
   "id": "b406cd25",
   "metadata": {},
   "outputs": [],
   "source": []
  },
  {
   "cell_type": "code",
   "execution_count": null,
   "id": "e2a1555a",
   "metadata": {},
   "outputs": [],
   "source": [
    "# Evaluate the model with k-NN on the test set\n",
    "loss, accuracy, precision, recall, f1_score = test(0, embedding_model, criterion, train_loader, test_loader, DEVICE)\n",
    "\n",
    "# Save results to CSV\n",
    "results = {\n",
    "        \"Loss\": loss,\n",
    "        \"Accuracy\": accuracy,\n",
    "        \"Precision\": precision,\n",
    "        \"Recall\": recall,\n",
    "        \"F1 Score\": f1_score\n",
    "}\n",
    "\n",
    "print(results)\n",
    "\n",
    "plot_s_vectors_with_prototypes(embedding_model, criterion, test_loader, n_pairs=100, device = DEVICE)"
   ]
  },
  {
   "cell_type": "code",
   "execution_count": null,
   "id": "1bedabb9",
   "metadata": {},
   "outputs": [],
   "source": []
  },
  {
   "cell_type": "code",
   "execution_count": null,
   "id": "15fc60e7",
   "metadata": {},
   "outputs": [],
   "source": []
  }
 ],
 "metadata": {
  "colab": {
   "provenance": []
  },
  "kernelspec": {
   "display_name": "Python 3 (ipykernel)",
   "language": "python",
   "name": "python3"
  },
  "language_info": {
   "codemirror_mode": {
    "name": "ipython",
    "version": 3
   },
   "file_extension": ".py",
   "mimetype": "text/x-python",
   "name": "python",
   "nbconvert_exporter": "python",
   "pygments_lexer": "ipython3",
   "version": "3.8.10"
  }
 },
 "nbformat": 4,
 "nbformat_minor": 5
}
