{
 "cells": [
  {
   "cell_type": "code",
   "execution_count": 1,
   "metadata": {},
   "outputs": [],
   "source": [
    "import numpy as np \n",
    "import pandas as pd \n",
    "import random\n",
    "\n",
    "import cv2\n",
    "import os"
   ]
  },
  {
   "cell_type": "code",
   "execution_count": 2,
   "metadata": {},
   "outputs": [],
   "source": [
    "root_dir = r'../'\n",
    "images_dir = os.path.join(root_dir,'db')\n",
    "notes_path = os.path.join(os.getcwd(), 'dataset', 'annotations')\n",
    "train_labels_path = os.path.join(notes_path,'malevis_recognition_train.csv')\n",
    "test_labels_path = os.path.join(notes_path,'malevis_recognition_test.csv')"
   ]
  },
  {
   "cell_type": "code",
   "execution_count": 4,
   "metadata": {},
   "outputs": [],
   "source": [
    "train_df = pd.read_csv(train_labels_path,usecols=['FileName','Label','ClassName'])\n",
    "test_df = pd.read_csv(test_labels_path,usecols=['FileName','Label','ClassName'])"
   ]
  },
  {
   "cell_type": "code",
   "execution_count": 5,
   "metadata": {},
   "outputs": [
    {
     "data": {
      "text/html": [
       "<div>\n",
       "<style scoped>\n",
       "    .dataframe tbody tr th:only-of-type {\n",
       "        vertical-align: middle;\n",
       "    }\n",
       "\n",
       "    .dataframe tbody tr th {\n",
       "        vertical-align: top;\n",
       "    }\n",
       "\n",
       "    .dataframe thead th {\n",
       "        text-align: right;\n",
       "    }\n",
       "</style>\n",
       "<table border=\"1\" class=\"dataframe\">\n",
       "  <thead>\n",
       "    <tr style=\"text-align: right;\">\n",
       "      <th></th>\n",
       "      <th>FileName</th>\n",
       "      <th>Label</th>\n",
       "      <th>ClassName</th>\n",
       "    </tr>\n",
       "  </thead>\n",
       "  <tbody>\n",
       "    <tr>\n",
       "      <th>0</th>\n",
       "      <td>../db/malevis_train/Vilsel/977b0f3ea9fcf4616d7...</td>\n",
       "      <td>0</td>\n",
       "      <td>Vilsel</td>\n",
       "    </tr>\n",
       "    <tr>\n",
       "      <th>1</th>\n",
       "      <td>../db/malevis_train/Vilsel/152f15cb5ab8fde5ce2...</td>\n",
       "      <td>0</td>\n",
       "      <td>Vilsel</td>\n",
       "    </tr>\n",
       "    <tr>\n",
       "      <th>2</th>\n",
       "      <td>../db/malevis_train/Vilsel/9766ffe83baf12fb825...</td>\n",
       "      <td>0</td>\n",
       "      <td>Vilsel</td>\n",
       "    </tr>\n",
       "    <tr>\n",
       "      <th>3</th>\n",
       "      <td>../db/malevis_train/Vilsel/29d962851ce3b2607d4...</td>\n",
       "      <td>0</td>\n",
       "      <td>Vilsel</td>\n",
       "    </tr>\n",
       "    <tr>\n",
       "      <th>4</th>\n",
       "      <td>../db/malevis_train/Vilsel/87011472817fbff5921...</td>\n",
       "      <td>0</td>\n",
       "      <td>Vilsel</td>\n",
       "    </tr>\n",
       "  </tbody>\n",
       "</table>\n",
       "</div>"
      ],
      "text/plain": [
       "                                            FileName  Label ClassName\n",
       "0  ../db/malevis_train/Vilsel/977b0f3ea9fcf4616d7...      0    Vilsel\n",
       "1  ../db/malevis_train/Vilsel/152f15cb5ab8fde5ce2...      0    Vilsel\n",
       "2  ../db/malevis_train/Vilsel/9766ffe83baf12fb825...      0    Vilsel\n",
       "3  ../db/malevis_train/Vilsel/29d962851ce3b2607d4...      0    Vilsel\n",
       "4  ../db/malevis_train/Vilsel/87011472817fbff5921...      0    Vilsel"
      ]
     },
     "execution_count": 5,
     "metadata": {},
     "output_type": "execute_result"
    }
   ],
   "source": [
    "train_df.head()"
   ]
  },
  {
   "cell_type": "code",
   "execution_count": 6,
   "metadata": {},
   "outputs": [
    {
     "data": {
      "text/html": [
       "<div>\n",
       "<style scoped>\n",
       "    .dataframe tbody tr th:only-of-type {\n",
       "        vertical-align: middle;\n",
       "    }\n",
       "\n",
       "    .dataframe tbody tr th {\n",
       "        vertical-align: top;\n",
       "    }\n",
       "\n",
       "    .dataframe thead th {\n",
       "        text-align: right;\n",
       "    }\n",
       "</style>\n",
       "<table border=\"1\" class=\"dataframe\">\n",
       "  <thead>\n",
       "    <tr style=\"text-align: right;\">\n",
       "      <th></th>\n",
       "      <th>FileName</th>\n",
       "      <th>Label</th>\n",
       "      <th>ClassName</th>\n",
       "    </tr>\n",
       "  </thead>\n",
       "  <tbody>\n",
       "  </tbody>\n",
       "</table>\n",
       "</div>"
      ],
      "text/plain": [
       "Empty DataFrame\n",
       "Columns: [FileName, Label, ClassName]\n",
       "Index: []"
      ]
     },
     "execution_count": 6,
     "metadata": {},
     "output_type": "execute_result"
    }
   ],
   "source": [
    "per_labeled_data=10\n",
    "small_labeled_data=pd.DataFrame(columns=['FileName','Label','ClassName'])\n",
    "small_labeled_data"
   ]
  },
  {
   "cell_type": "code",
   "execution_count": 7,
   "metadata": {},
   "outputs": [
    {
     "name": "stdout",
     "output_type": "stream",
     "text": [
      "29\n",
      "29\n",
      "29\n",
      "29\n",
      "29\n",
      "29\n",
      "29\n",
      "29\n",
      "29\n",
      "29\n",
      "29\n",
      "29\n",
      "29\n",
      "29\n",
      "29\n",
      "29\n",
      "29\n",
      "29\n",
      "29\n",
      "29\n",
      "29\n",
      "29\n",
      "29\n",
      "29\n",
      "29\n",
      "29\n"
     ]
    }
   ],
   "source": [
    "for labels in range(26):\n",
    "    data=train_df[train_df['Label']==labels]\n",
    "    num_labeled_samp=int((len(data)/100)*per_labeled_data)\n",
    "    print(num_labeled_samp)\n",
    "    idxs = random.sample(range(1, len(data)), num_labeled_samp)\n",
    "    data_selected=data.iloc[idxs]\n",
    "    small_labeled_data = pd.concat([small_labeled_data,data_selected])\n",
    "    "
   ]
  },
  {
   "cell_type": "code",
   "execution_count": 8,
   "metadata": {},
   "outputs": [
    {
     "data": {
      "text/html": [
       "<div>\n",
       "<style scoped>\n",
       "    .dataframe tbody tr th:only-of-type {\n",
       "        vertical-align: middle;\n",
       "    }\n",
       "\n",
       "    .dataframe tbody tr th {\n",
       "        vertical-align: top;\n",
       "    }\n",
       "\n",
       "    .dataframe thead th {\n",
       "        text-align: right;\n",
       "    }\n",
       "</style>\n",
       "<table border=\"1\" class=\"dataframe\">\n",
       "  <thead>\n",
       "    <tr style=\"text-align: right;\">\n",
       "      <th></th>\n",
       "      <th>FileName</th>\n",
       "      <th>Label</th>\n",
       "      <th>ClassName</th>\n",
       "    </tr>\n",
       "  </thead>\n",
       "  <tbody>\n",
       "    <tr>\n",
       "      <th>202</th>\n",
       "      <td>../db/malevis_train/Vilsel/a9ac0378e05d6e3fea9...</td>\n",
       "      <td>0</td>\n",
       "      <td>Vilsel</td>\n",
       "    </tr>\n",
       "    <tr>\n",
       "      <th>66</th>\n",
       "      <td>../db/malevis_train/Vilsel/558a895eb689c222004...</td>\n",
       "      <td>0</td>\n",
       "      <td>Vilsel</td>\n",
       "    </tr>\n",
       "    <tr>\n",
       "      <th>2</th>\n",
       "      <td>../db/malevis_train/Vilsel/9766ffe83baf12fb825...</td>\n",
       "      <td>0</td>\n",
       "      <td>Vilsel</td>\n",
       "    </tr>\n",
       "    <tr>\n",
       "      <th>113</th>\n",
       "      <td>../db/malevis_train/Vilsel/016733a0a80ffc94b3b...</td>\n",
       "      <td>0</td>\n",
       "      <td>Vilsel</td>\n",
       "    </tr>\n",
       "    <tr>\n",
       "      <th>152</th>\n",
       "      <td>../db/malevis_train/Vilsel/50dae188c4de424a5eb...</td>\n",
       "      <td>0</td>\n",
       "      <td>Vilsel</td>\n",
       "    </tr>\n",
       "    <tr>\n",
       "      <th>...</th>\n",
       "      <td>...</td>\n",
       "      <td>...</td>\n",
       "      <td>...</td>\n",
       "    </tr>\n",
       "    <tr>\n",
       "      <th>7332</th>\n",
       "      <td>../db/malevis_train/Expiro/3f7e59a9beddab50826...</td>\n",
       "      <td>25</td>\n",
       "      <td>Expiro</td>\n",
       "    </tr>\n",
       "    <tr>\n",
       "      <th>7451</th>\n",
       "      <td>../db/malevis_train/Expiro/05273dc73004a2e3f52...</td>\n",
       "      <td>25</td>\n",
       "      <td>Expiro</td>\n",
       "    </tr>\n",
       "    <tr>\n",
       "      <th>7537</th>\n",
       "      <td>../db/malevis_train/Expiro/1178c39b96279cd70c2...</td>\n",
       "      <td>25</td>\n",
       "      <td>Expiro</td>\n",
       "    </tr>\n",
       "    <tr>\n",
       "      <th>7398</th>\n",
       "      <td>../db/malevis_train/Expiro/79abc5d9e19f84194c3...</td>\n",
       "      <td>25</td>\n",
       "      <td>Expiro</td>\n",
       "    </tr>\n",
       "    <tr>\n",
       "      <th>7425</th>\n",
       "      <td>../db/malevis_train/Expiro/926ef1144df5b775185...</td>\n",
       "      <td>25</td>\n",
       "      <td>Expiro</td>\n",
       "    </tr>\n",
       "  </tbody>\n",
       "</table>\n",
       "<p>754 rows × 3 columns</p>\n",
       "</div>"
      ],
      "text/plain": [
       "                                               FileName Label ClassName\n",
       "202   ../db/malevis_train/Vilsel/a9ac0378e05d6e3fea9...     0    Vilsel\n",
       "66    ../db/malevis_train/Vilsel/558a895eb689c222004...     0    Vilsel\n",
       "2     ../db/malevis_train/Vilsel/9766ffe83baf12fb825...     0    Vilsel\n",
       "113   ../db/malevis_train/Vilsel/016733a0a80ffc94b3b...     0    Vilsel\n",
       "152   ../db/malevis_train/Vilsel/50dae188c4de424a5eb...     0    Vilsel\n",
       "...                                                 ...   ...       ...\n",
       "7332  ../db/malevis_train/Expiro/3f7e59a9beddab50826...    25    Expiro\n",
       "7451  ../db/malevis_train/Expiro/05273dc73004a2e3f52...    25    Expiro\n",
       "7537  ../db/malevis_train/Expiro/1178c39b96279cd70c2...    25    Expiro\n",
       "7398  ../db/malevis_train/Expiro/79abc5d9e19f84194c3...    25    Expiro\n",
       "7425  ../db/malevis_train/Expiro/926ef1144df5b775185...    25    Expiro\n",
       "\n",
       "[754 rows x 3 columns]"
      ]
     },
     "execution_count": 8,
     "metadata": {},
     "output_type": "execute_result"
    }
   ],
   "source": [
    "small_labeled_data"
   ]
  },
  {
   "cell_type": "code",
   "execution_count": 9,
   "metadata": {},
   "outputs": [],
   "source": [
    "dest_path=os.path.join('dataset','annotations')\n",
    "if not os.path.exists(dest_path):\n",
    "    os.mkdir(dest_path)\n",
    "\n",
    "small_labeled_data.to_csv(os.path.join(dest_path,'small_labeled_data.csv'),index=False)\n"
   ]
  },
  {
   "cell_type": "code",
   "execution_count": null,
   "metadata": {},
   "outputs": [],
   "source": []
  }
 ],
 "metadata": {
  "kernelspec": {
   "display_name": "Python 3 (ipykernel)",
   "language": "python",
   "name": "python3"
  },
  "language_info": {
   "codemirror_mode": {
    "name": "ipython",
    "version": 3
   },
   "file_extension": ".py",
   "mimetype": "text/x-python",
   "name": "python",
   "nbconvert_exporter": "python",
   "pygments_lexer": "ipython3",
   "version": "3.8.10"
  }
 },
 "nbformat": 4,
 "nbformat_minor": 2
}
